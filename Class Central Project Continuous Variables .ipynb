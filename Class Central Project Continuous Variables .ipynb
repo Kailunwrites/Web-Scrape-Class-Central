{
 "cells": [
  {
   "cell_type": "code",
   "execution_count": 51,
   "metadata": {},
   "outputs": [],
   "source": [
    "import numpy as np\n",
    "import random\n",
    "import pandas as pd \n",
    "np.random.seed(0)\n",
    "import seaborn as sns\n",
    "import matplotlib.pyplot as plt\n",
    "from scipy import stats"
   ]
  },
  {
   "cell_type": "code",
   "execution_count": 42,
   "metadata": {},
   "outputs": [],
   "source": [
    "subpop= pd.read_csv('all_subjects_top50_duration.csv')"
   ]
  },
  {
   "cell_type": "code",
   "execution_count": 43,
   "metadata": {},
   "outputs": [],
   "source": [
    "is_flex_deadline=subpop['course_duration_raw']!= 'Quick View'"
   ]
  },
  {
   "cell_type": "code",
   "execution_count": 44,
   "metadata": {},
   "outputs": [],
   "source": [
    "subpop_2= subpop[is_flex_deadline]"
   ]
  },
  {
   "cell_type": "code",
   "execution_count": 45,
   "metadata": {},
   "outputs": [],
   "source": [
    "def generate_duration(course_duration_raw):\n",
    "  #extract hours per week\n",
    "    hours_per_week_string= str(course_duration_raw[0:course_duration_raw.find('hours')-1].split('-')[0]) + ',' + str(course_duration_raw[0:course_duration_raw.find('hours')-1].split('-')[1])\n",
    "  \n",
    "  # extract weeks\n",
    "    weeks= str(course_duration_raw[course_duration_raw.find('weeks')-3:course_duration_raw.find('weeks')]).strip()\n",
    "\n",
    "    course_duration_raw=hours_per_week_string+ ',' + weeks\n",
    "    '''\n",
    "      Course_duration_raw is a string of 'start,end, week' output is the transformed feature course_duration in hours \n",
    "    '''\n",
    "    temp=course_duration_raw.split(',')\n",
    "    start=float(temp[0])\n",
    "    end=float(temp[1])\n",
    "    week=float(temp[2])\n",
    "    '''\n",
    "    start is the lower bound of hours per week \n",
    "      end is the upper bound of hours per week \n",
    "      week is amount of weeks needed to complete the course\n",
    "    \n",
    "    '''\n",
    "    mid= (start+end)/2\n",
    "      # 32 samples based on central limit theorem \n",
    "    random_sample_hours_per_week= np.random.normal(mid, size=32)\n",
    "    duration= np.mean(random_sample_hours_per_week)*week\n",
    "    \n",
    "    return duration"
   ]
  },
  {
   "cell_type": "code",
   "execution_count": 47,
   "metadata": {},
   "outputs": [],
   "source": [
    "test2=[None]*len(subpop_2['course_duration_raw'])\n",
    "\n",
    "for i, item in enumerate(subpop_2['course_duration_raw']):\n",
    "    test= str(item)\n",
    "    temp_loop= generate_duration(test)\n",
    "    test2[i]=temp_loop\n",
    "    \n",
    "subpop_2['course_duration_absolute']=test2"
   ]
  },
  {
   "cell_type": "code",
   "execution_count": 61,
   "metadata": {},
   "outputs": [
    {
     "data": {
      "image/png": "[encoded data removed]",
      "text/plain": [
       "<Figure size 432x288 with 1 Axes>"
      ]
     },
     "metadata": {
      "needs_background": "light"
     },
     "output_type": "display_data"
    }
   ],
   "source": [
    "subpop_2['course_duration_absolute'].plot.hist(grid=True, bins=40, rwidth=0.9, color='#607c8e')\n",
    "plt.title('Course Duration')\n",
    "plt.ylabel('Counts')\n",
    "plt.xlabel('Course Duration Physical (Hours)')\n",
    "plt.grid(axis='y', alpha=0.75)"
   ]
  },
  {
   "cell_type": "code",
   "execution_count": 62,
   "metadata": {},
   "outputs": [
    {
     "data": {
      "text/plain": [
       "count    350.000000\n",
       "mean      27.510394\n",
       "std       24.129930\n",
       "min        3.247697\n",
       "25%       12.936404\n",
       "50%       22.979072\n",
       "75%       34.685296\n",
       "max      234.184144\n",
       "Name: course_duration_absolute, dtype: float64"
      ]
     },
     "execution_count": 62,
     "metadata": {},
     "output_type": "execute_result"
    }
   ],
   "source": [
    "subpop_2['course_duration_absolute'].describe()"
   ]
  },
  {
   "cell_type": "code",
   "execution_count": 64,
   "metadata": {},
   "outputs": [],
   "source": [
    "def is_outlier(points, thresh=3.5):\n",
    "    \"\"\"\n",
    "    Returns a boolean array with True if points are outliers and False \n",
    "    otherwise.\n",
    "\n",
    "    Parameters:\n",
    "    -----------\n",
    "        points : An numobservations by numdimensions array of observations\n",
    "        thresh : The modified z-score to use as a threshold. Observations with\n",
    "            a modified z-score (based on the median absolute deviation) greater\n",
    "            than this value will be classified as outliers.\n",
    "\n",
    "    Returns:\n",
    "    --------\n",
    "        mask : A numobservations-length boolean array.\n",
    "\n",
    "    References:\n",
    "    ----------\n",
    "        Boris Iglewicz and David Hoaglin (1993), \"Volume 16: How to Detect and\n",
    "        Handle Outliers\", The ASQC Basic References in Quality Control:\n",
    "        Statistical Techniques, Edward F. Mykytka, Ph.D., Editor. \n",
    "    \"\"\"\n",
    "    if len(points.shape) == 1:\n",
    "        points = points[:,None]\n",
    "    median = np.median(points, axis=0)\n",
    "    diff = np.sum((points - median)**2, axis=-1)\n",
    "    diff = np.sqrt(diff)\n",
    "    med_abs_deviation = np.median(diff)\n",
    "\n",
    "    modified_z_score = 0.6745 * diff / med_abs_deviation\n",
    "\n",
    "    return modified_z_score > thresh"
   ]
  },
  {
   "cell_type": "code",
   "execution_count": 75,
   "metadata": {},
   "outputs": [
    {
     "data": {
      "image/png": "[encoded data removed]",
      "text/plain": [
       "<Figure size 432x360 with 2 Axes>"
      ]
     },
     "metadata": {
      "needs_background": "light"
     },
     "output_type": "display_data"
    }
   ],
   "source": [
    "x=np.array(subpop_2['course_duration_absolute'])\n",
    "# Keep only the \"good\" points\n",
    "# \"~\" operates as a logical not operator on boolean numpy arrays\n",
    "filtered = x[~is_outlier(x)]\n",
    "\n",
    "\n",
    "# Plot the results\n",
    "fig, (ax1, ax2) = plt.subplots(nrows=2, figsize=(6,5))\n",
    "\n",
    "ax1.hist(x, bins=40, rwidth=0.9, color='#607c8e')\n",
    "ax1.set_title('Original')\n",
    "\n",
    "ax2.hist(filtered, bins=40, rwidth=0.9, color='#607c8e')\n",
    "ax2.set_title('Without Outliers')\n",
    "\n",
    "plt.tight_layout()\n",
    "plt.show()"
   ]
  },
  {
   "cell_type": "code",
   "execution_count": null,
   "metadata": {},
   "outputs": [],
   "source": []
  }
 ],
 "metadata": {
  "kernelspec": {
   "display_name": "Python 3",
   "language": "python",
   "name": "python3"
  },
  "language_info": {
   "codemirror_mode": {
    "name": "ipython",
    "version": 3
   },
   "file_extension": ".py",
   "mimetype": "text/x-python",
   "name": "python",
   "nbconvert_exporter": "python",
   "pygments_lexer": "ipython3",
   "version": "3.7.6"
  }
 },
 "nbformat": 4,
 "nbformat_minor": 2
}
